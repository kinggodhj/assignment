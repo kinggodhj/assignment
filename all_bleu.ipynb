{
 "cells": [
  {
   "cell_type": "code",
   "execution_count": 100,
   "metadata": {},
   "outputs": [],
   "source": [
    "from os import listdir\n",
    "from os.path import isfile, join"
   ]
  },
  {
   "cell_type": "code",
   "execution_count": 73,
   "metadata": {},
   "outputs": [],
   "source": [
    "from nltk.translate.bleu_score import sentence_bleu\n",
    "from torchtext.data.metrics import bleu_score"
   ]
  },
  {
   "cell_type": "code",
   "execution_count": 123,
   "metadata": {},
   "outputs": [],
   "source": [
    "import numpy as np"
   ]
  },
  {
   "cell_type": "code",
   "execution_count": 4,
   "metadata": {},
   "outputs": [],
   "source": [
    "def read(path):\n",
    "    ref = []\n",
    "    f = open(path, 'r')\n",
    "    lines = f.readlines()\n",
    "    for line in lines:\n",
    "        ref.append(line.rstrip().split(' '))\n",
    "    f.close()\n",
    "    return ref"
   ]
  },
  {
   "cell_type": "code",
   "execution_count": 94,
   "metadata": {},
   "outputs": [],
   "source": [
    "def one_bleu(ref, hyp):\n",
    "    bleu = 0\n",
    "    for i in range(len(hyp)):\n",
    "        bleu += sentence_bleu([ref[i]], hyp[i], weights=(1,0,0,0))\n",
    "    \n",
    "    return bleu"
   ]
  },
  {
   "cell_type": "code",
   "execution_count": 131,
   "metadata": {},
   "outputs": [],
   "source": [
    "def bleu(ref, hyp):\n",
    "    bleu = 0\n",
    "    for i in range(len(hyp)):\n",
    "        bleu += sentence_bleu([ref[i]], hyp[i])\n",
    "    return bleu"
   ]
  },
  {
   "cell_type": "code",
   "execution_count": 16,
   "metadata": {},
   "outputs": [],
   "source": [
    "ref_p = 'test_target.txt'"
   ]
  },
  {
   "cell_type": "code",
   "execution_count": 85,
   "metadata": {},
   "outputs": [],
   "source": [
    "hyp_p = './generated/transformer/model3001281'"
   ]
  },
  {
   "cell_type": "code",
   "execution_count": 86,
   "metadata": {},
   "outputs": [],
   "source": [
    "ref = read(ref_p)\n",
    "hyp = read(hyp_p)"
   ]
  },
  {
   "cell_type": "code",
   "execution_count": 97,
   "metadata": {},
   "outputs": [
    {
     "name": "stdout",
     "output_type": "stream",
     "text": [
      "11.340344302740206\n"
     ]
    }
   ],
   "source": [
    "print((one_bleu(ref, hyp)/len(ref)) * 100)"
   ]
  },
  {
   "cell_type": "code",
   "execution_count": 110,
   "metadata": {},
   "outputs": [],
   "source": [
    "mypath = './generated/transformer/'"
   ]
  },
  {
   "cell_type": "code",
   "execution_count": 117,
   "metadata": {},
   "outputs": [],
   "source": [
    "def search(dirname):\n",
    "    filenames = os.listdir(dirname)\n",
    "    files = []\n",
    "    for filename in filenames:\n",
    "        full_filename = os.path.join(dirname + filename)\n",
    "        files.append(full_filename)\n",
    "    return files"
   ]
  },
  {
   "cell_type": "code",
   "execution_count": 133,
   "metadata": {},
   "outputs": [
    {
     "data": {
      "text/plain": [
       "[['./generated/transformer/premodel35321',\n",
       "  12.637885225821222,\n",
       "  0.5482937887380299],\n",
       " ['./generated/transformer/model15321',\n",
       "  12.390184368923554,\n",
       "  0.5114396069411762],\n",
       " ['./generated/transformer/premodel15321',\n",
       "  11.984642930290267,\n",
       "  0.507527017621341],\n",
       " ['./generated/transformer/model5161', 12.715104373394222, 0.4886541935254186],\n",
       " ['./generated/transformer/model15161',\n",
       "  12.497787238762232,\n",
       "  0.4298501811588167],\n",
       " ['./generated/transformer/model20321',\n",
       "  11.855906459738252,\n",
       "  0.39112996081874646],\n",
       " ['./generated/transformer/model45161', 12.210577438781812, 0.385477892331204],\n",
       " ['./generated/transformer/premodel30321',\n",
       "  11.699633521519567,\n",
       "  0.37845745903624173],\n",
       " ['./generated/transformer/premodel10322',\n",
       "  10.653785500442698,\n",
       "  0.37490448146962085],\n",
       " ['./generated/transformer/model50321',\n",
       "  12.902835013440741,\n",
       "  0.3722020049010304],\n",
       " ['./generated/transformer/premodel40321',\n",
       "  12.226467755044778,\n",
       "  0.36200215978951245],\n",
       " ['./generated/transformer/premodel45321',\n",
       "  12.335535246748032,\n",
       "  0.35984582012591254],\n",
       " ['./generated/transformer/model20161',\n",
       "  11.710343666033955,\n",
       "  0.3391995093926676],\n",
       " ['./generated/transformer/premodel10321',\n",
       "  10.879504163352664,\n",
       "  0.338979102380681],\n",
       " ['./generated/transformer/model35321',\n",
       "  12.558725700024265,\n",
       "  0.3286075473284535],\n",
       " ['./generated/transformer/premodel10162',\n",
       "  11.496320637678517,\n",
       "  0.31107346980427264],\n",
       " ['./generated/transformer/model10161', 12.4794181644924, 0.296476950280261],\n",
       " ['./generated/transformer/model10321',\n",
       "  11.971712143511317,\n",
       "  0.28184535730203597],\n",
       " ['./generated/transformer/premodel30161',\n",
       "  9.491115628218907,\n",
       "  0.28007312184322597],\n",
       " ['./generated/transformer/model100641',\n",
       "  12.55417391383357,\n",
       "  0.2650795131384383],\n",
       " ['./generated/transformer/premodel5321',\n",
       "  9.834686430534196,\n",
       "  0.2623596430614201],\n",
       " ['./generated/transformer/model100321',\n",
       "  12.671661793289074,\n",
       "  0.25511908923486154],\n",
       " ['./generated/transformer/model5321', 12.895928165588655, 0.2527170385414215],\n",
       " ['./generated/transformer/premodel40161',\n",
       "  9.87866388957921,\n",
       "  0.24925453843581127],\n",
       " ['./generated/transformer/model50641',\n",
       "  12.603147643224997,\n",
       "  0.24556158265655187],\n",
       " ['./generated/transformer/model300321',\n",
       "  12.378192971390686,\n",
       "  0.24357606510209576],\n",
       " ['./generated/transformer/premodel5162',\n",
       "  12.159819886635251,\n",
       "  0.24069812678576696],\n",
       " ['./generated/transformer/premodel300321',\n",
       "  11.952981897696342,\n",
       "  0.2314631084565632],\n",
       " ['./generated/transformer/model501281',\n",
       "  12.443261402610807,\n",
       "  0.22841191347367715],\n",
       " ['./generated/transformer/premodel35161',\n",
       "  9.837461134958843,\n",
       "  0.21454863195423143],\n",
       " ['./generated/transformer/model1001282',\n",
       "  11.93810727759065,\n",
       "  0.21396977650923543],\n",
       " ['./generated/transformer/model501282',\n",
       "  12.01613480259105,\n",
       "  0.20324025504754045],\n",
       " ['./generated/transformer/model2001281',\n",
       "  11.236904453919152,\n",
       "  0.2022232770034124],\n",
       " ['./generated/transformer/premodel300641',\n",
       "  11.746764344664232,\n",
       "  0.19869829858505555],\n",
       " ['./generated/transformer/premodel15161',\n",
       "  7.63266887236599,\n",
       "  0.19854632668826394],\n",
       " ['./generated/transformer/premodel5322',\n",
       "  9.96546111791505,\n",
       "  0.1918339790295781],\n",
       " ['./generated/transformer/model2501281',\n",
       "  11.119204510268258,\n",
       "  0.18859145473026057],\n",
       " ['./generated/transformer/model2001282',\n",
       "  11.802046084354592,\n",
       "  0.18776417458590172],\n",
       " ['./generated/transformer/premodel5161',\n",
       "  9.765139903982584,\n",
       "  0.17541813520890823],\n",
       " ['./generated/transformer/premodel10161',\n",
       "  8.760256070270831,\n",
       "  0.17517455487286906],\n",
       " ['./generated/transformer/model1501282',\n",
       "  11.507567529224861,\n",
       "  0.16373909990725263],\n",
       " ['./generated/transformer/model300641',\n",
       "  11.905046878580752,\n",
       "  0.1307860058000442],\n",
       " ['./generated/transformer/model1001281',\n",
       "  11.839613158098972,\n",
       "  0.125697871265765],\n",
       " ['./generated/transformer/model1501281',\n",
       "  10.957130208813535,\n",
       "  0.12013335259603718],\n",
       " ['./generated/transformer/model3001281',\n",
       "  11.340344302740206,\n",
       "  0.0971267167811158],\n",
       " ['./generated/transformer/premodel3001281', 0.0, 0.0]]"
      ]
     },
     "execution_count": 133,
     "metadata": {},
     "output_type": "execute_result"
    }
   ],
   "source": [
    "files = search(mypath)\n",
    "data = []\n",
    "for file in files:\n",
    "    hyp = read(file)\n",
    "    b_1 =  (one_bleu(ref, hyp)/len(ref)) * 100\n",
    "    b_2 =  (bleu(ref, hyp)/len(ref)) * 100\n",
    "    data.append([file, b_1, b_2])\n",
    "sorted(data, key = (lambda x:x[2]), reverse = True)"
   ]
  },
  {
   "cell_type": "code",
   "execution_count": null,
   "metadata": {},
   "outputs": [],
   "source": []
  }
 ],
 "metadata": {
  "kernelspec": {
   "display_name": "Python [conda env:python] *",
   "language": "python",
   "name": "conda-env-python-py"
  },
  "language_info": {
   "codemirror_mode": {
    "name": "ipython",
    "version": 3
   },
   "file_extension": ".py",
   "mimetype": "text/x-python",
   "name": "python",
   "nbconvert_exporter": "python",
   "pygments_lexer": "ipython3",
   "version": "3.7.3"
  }
 },
 "nbformat": 4,
 "nbformat_minor": 4
}
