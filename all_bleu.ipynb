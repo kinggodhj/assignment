{
 "cells": [
  {
   "cell_type": "code",
   "execution_count": 100,
   "metadata": {},
   "outputs": [],
   "source": [
    "from os import listdir\n",
    "from os.path import isfile, join"
   ]
  },
  {
   "cell_type": "code",
   "execution_count": 73,
   "metadata": {},
   "outputs": [],
   "source": [
    "from nltk.translate.bleu_score import sentence_bleu\n",
    "from torchtext.data.metrics import bleu_score"
   ]
  },
  {
   "cell_type": "code",
   "execution_count": 123,
   "metadata": {},
   "outputs": [],
   "source": [
    "import numpy as np"
   ]
  },
  {
   "cell_type": "code",
   "execution_count": 138,
   "metadata": {},
   "outputs": [],
   "source": [
    "def read(path):\n",
    "    ref = []\n",
    "    f = open(path, 'r')\n",
    "    lines = f.readlines()\n",
    "    for line in lines:\n",
    "        if len(line) < 1:\n",
    "            ref.append('1')\n",
    "        else:\n",
    "            ref.append(line.rstrip().split(' '))\n",
    "    f.close()\n",
    "    return ref"
   ]
  },
  {
   "cell_type": "code",
   "execution_count": 94,
   "metadata": {},
   "outputs": [],
   "source": [
    "def one_bleu(ref, hyp):\n",
    "    bleu = 0\n",
    "    for i in range(len(hyp)):\n",
    "        bleu += sentence_bleu([ref[i]], hyp[i], weights=(1,0,0,0))\n",
    "    \n",
    "    return bleu"
   ]
  },
  {
   "cell_type": "code",
   "execution_count": 131,
   "metadata": {},
   "outputs": [],
   "source": [
    "def bleu(ref, hyp):\n",
    "    bleu = 0\n",
    "    for i in range(len(hyp)):\n",
    "        bleu += sentence_bleu([ref[i]], hyp[i])\n",
    "    return bleu"
   ]
  },
  {
   "cell_type": "code",
   "execution_count": 16,
   "metadata": {},
   "outputs": [],
   "source": [
    "ref_p = 'test_target.txt'"
   ]
  },
  {
   "cell_type": "code",
   "execution_count": 85,
   "metadata": {},
   "outputs": [],
   "source": [
    "hyp_p = './generated/transformer/model3001281'"
   ]
  },
  {
   "cell_type": "code",
   "execution_count": 86,
   "metadata": {},
   "outputs": [],
   "source": [
    "ref = read(ref_p)\n",
    "hyp = read(hyp_p)"
   ]
  },
  {
   "cell_type": "code",
   "execution_count": 110,
   "metadata": {},
   "outputs": [],
   "source": [
    "mypath = './generated/transformer/'"
   ]
  },
  {
   "cell_type": "code",
   "execution_count": 117,
   "metadata": {},
   "outputs": [],
   "source": [
    "def search(dirname):\n",
    "    filenames = os.listdir(dirname)\n",
    "    files = []\n",
    "    for filename in filenames:\n",
    "        full_filename = os.path.join(dirname + filename)\n",
    "        files.append(full_filename)\n",
    "    return files"
   ]
  },
  {
   "cell_type": "code",
   "execution_count": 141,
   "metadata": {},
   "outputs": [
    {
     "data": {
      "text/plain": [
       "[['./generated/transformer/premodel35321',\n",
       "  12.637885225821222,\n",
       "  0.5482937887380299],\n",
       " ['./generated/transformer/model15321',\n",
       "  12.390184368923554,\n",
       "  0.5114396069411762],\n",
       " ['./generated/transformer/premodel15321',\n",
       "  11.984642930290267,\n",
       "  0.507527017621341],\n",
       " ['./generated/transformer/model5161', 12.715104373394222, 0.4886541935254186],\n",
       " ['./generated/transformer/model15161',\n",
       "  12.497787238762232,\n",
       "  0.4298501811588167],\n",
       " ['./generated/transformer/premodel50321',\n",
       "  11.980594959431565,\n",
       "  0.42335113568793514],\n",
       " ['./generated/transformer/model20321',\n",
       "  11.855906459738252,\n",
       "  0.39112996081874646],\n",
       " ['./generated/transformer/model45161', 12.210577438781812, 0.385477892331204],\n",
       " ['./generated/transformer/premodel30321',\n",
       "  11.699633521519567,\n",
       "  0.37845745903624173],\n",
       " ['./generated/transformer/premodel10322',\n",
       "  10.653785500442698,\n",
       "  0.37490448146962085],\n",
       " ['./generated/transformer/model50321',\n",
       "  12.902835013440741,\n",
       "  0.3722020049010304],\n",
       " ['./generated/transformer/premodel40321',\n",
       "  12.226467755044778,\n",
       "  0.36200215978951245],\n",
       " ['./generated/transformer/premodel45321',\n",
       "  12.335535246748032,\n",
       "  0.35984582012591254],\n",
       " ['./generated/transformer/model20161',\n",
       "  11.710343666033955,\n",
       "  0.3391995093926676],\n",
       " ['./generated/transformer/premodel10321',\n",
       "  10.879504163352664,\n",
       "  0.338979102380681],\n",
       " ['./generated/transformer/model35321',\n",
       "  12.558725700024265,\n",
       "  0.3286075473284535],\n",
       " ['./generated/transformer/premodel10162',\n",
       "  11.496320637678517,\n",
       "  0.31107346980427264],\n",
       " ['./generated/transformer/model10161', 12.4794181644924, 0.296476950280261],\n",
       " ['./generated/transformer/model10321',\n",
       "  11.971712143511317,\n",
       "  0.28184535730203597],\n",
       " ['./generated/transformer/premodel30161',\n",
       "  9.491115628218907,\n",
       "  0.28007312184322597],\n",
       " ['./generated/transformer/model100641',\n",
       "  12.55417391383357,\n",
       "  0.2650795131384383],\n",
       " ['./generated/transformer/premodel5321',\n",
       "  9.834686430534196,\n",
       "  0.2623596430614201],\n",
       " ['./generated/transformer/model100321',\n",
       "  12.671661793289074,\n",
       "  0.25511908923486154],\n",
       " ['./generated/transformer/model5321', 12.895928165588655, 0.2527170385414215],\n",
       " ['./generated/transformer/premodel40161',\n",
       "  9.87866388957921,\n",
       "  0.24925453843581127],\n",
       " ['./generated/transformer/model50641',\n",
       "  12.603147643224997,\n",
       "  0.24556158265655187],\n",
       " ['./generated/transformer/model300321',\n",
       "  12.378192971390686,\n",
       "  0.24357606510209576],\n",
       " ['./generated/transformer/premodel5162',\n",
       "  12.159819886635251,\n",
       "  0.24069812678576696],\n",
       " ['./generated/transformer/model50322',\n",
       "  12.379678788225124,\n",
       "  0.2360609010155556],\n",
       " ['./generated/transformer/premodel300321',\n",
       "  11.952981897696342,\n",
       "  0.2314631084565632],\n",
       " ['./generated/transformer/model501281',\n",
       "  12.443261402610807,\n",
       "  0.22841191347367715],\n",
       " ['./generated/transformer/premodel35161',\n",
       "  9.837461134958843,\n",
       "  0.21454863195423143],\n",
       " ['./generated/transformer/model1001282',\n",
       "  11.93810727759065,\n",
       "  0.21396977650923543],\n",
       " ['./generated/transformer/model501282',\n",
       "  12.01613480259105,\n",
       "  0.20324025504754045],\n",
       " ['./generated/transformer/model2001281',\n",
       "  11.236904453919152,\n",
       "  0.2022232770034124],\n",
       " ['./generated/transformer/premodel300641',\n",
       "  11.746764344664232,\n",
       "  0.19869829858505555],\n",
       " ['./generated/transformer/premodel15161',\n",
       "  7.63266887236599,\n",
       "  0.19854632668826394],\n",
       " ['./generated/transformer/premodel5322',\n",
       "  9.96546111791505,\n",
       "  0.1918339790295781],\n",
       " ['./generated/transformer/model2501281',\n",
       "  11.119204510268258,\n",
       "  0.18859145473026057],\n",
       " ['./generated/transformer/model2001282',\n",
       "  11.802046084354592,\n",
       "  0.18776417458590172],\n",
       " ['./generated/transformer/premodel5161',\n",
       "  9.765139903982584,\n",
       "  0.17541813520890823],\n",
       " ['./generated/transformer/premodel10161',\n",
       "  8.760256070270831,\n",
       "  0.17517455487286906],\n",
       " ['./generated/transformer/model1501282',\n",
       "  11.507567529224861,\n",
       "  0.16373909990725263],\n",
       " ['./generated/transformer/model300641',\n",
       "  11.905046878580752,\n",
       "  0.1307860058000442],\n",
       " ['./generated/transformer/model1001281',\n",
       "  11.839613158098972,\n",
       "  0.125697871265765],\n",
       " ['./generated/transformer/model1501281',\n",
       "  10.957130208813535,\n",
       "  0.12013335259603718],\n",
       " ['./generated/transformer/model3001281',\n",
       "  11.340344302740206,\n",
       "  0.0971267167811158],\n",
       " ['./generated/transformer/premodel3001281', 0.0, 0.0]]"
      ]
     },
     "execution_count": 141,
     "metadata": {},
     "output_type": "execute_result"
    }
   ],
   "source": [
    "files = search(mypath)\n",
    "data = []\n",
    "for file in files:\n",
    "    hyp = read(file)\n",
    "    b_1 =  (one_bleu(ref, hyp)/len(ref)) * 100\n",
    "    b_2 =  (bleu(ref, hyp)/len(ref)) * 100\n",
    "    data.append([file, b_1, b_2])\n",
    "sorted(data, key = (lambda x:x[2]), reverse = True)"
   ]
  },
  {
   "cell_type": "code",
   "execution_count": 142,
   "metadata": {},
   "outputs": [
    {
     "data": {
      "text/plain": [
       "[['./generated/SGD/premodel5641', 12.106878569074055, 0.6548395418028362],\n",
       " ['./generated/SGD/model5641', 12.331703498098605, 0.4296389279981445],\n",
       " ['./generated/SGD/premodel5321', 10.179207924165382, 0.32382452312339477],\n",
       " ['./generated/SGD/model5321', 11.716051863768676, 0.28343719559604924],\n",
       " ['./generated/SGD/model10321', 3.1766898019102916, 0.10975200813901442],\n",
       " ['./generated/SGD/model20321', 3.7823701064599464, 0.08589922949983304],\n",
       " ['./generated/SGD/premodel20641', 3.7208143972507686, 0.07674171647317488],\n",
       " ['./generated/SGD/premodel10641', 3.663968236603855, 0.07172858544684396],\n",
       " ['./generated/SGD/premodel20321', 3.724842811173665, 0.06520997400964774],\n",
       " ['./generated/SGD/premodel10321', 3.6244684230045494, 0.05811450076519465],\n",
       " ['./generated/SGD/model20641', 3.155070191667138, 0.04631455673544865],\n",
       " ['./generated/SGD/model10641', 2.810679455537959, 0.02325900453056445]]"
      ]
     },
     "execution_count": 142,
     "metadata": {},
     "output_type": "execute_result"
    }
   ],
   "source": [
    "files = search('./generated/SGD/')\n",
    "data = []\n",
    "for file in files:\n",
    "    hyp = read(file)\n",
    "    b_1 =  (one_bleu(ref, hyp)/len(ref)) * 100\n",
    "    b_2 =  (bleu(ref, hyp)/len(ref)) * 100\n",
    "    data.append([file, b_1, b_2])\n",
    "sorted(data, key = (lambda x:x[2]), reverse = True)"
   ]
  },
  {
   "cell_type": "code",
   "execution_count": 148,
   "metadata": {},
   "outputs": [
    {
     "data": {
      "text/plain": [
       "[['./generated/batch/4model4321', 12.525254324153273, 0.5504528669575127],\n",
       " ['./generated/batch/1premodel25321', 11.672179626553952, 0.4915634092849744],\n",
       " ['./generated/batch/4premodel48321', 12.258326248314265, 0.459483107257277],\n",
       " ['./generated/batch/2model25321', 11.8248025303157, 0.44519011913905215],\n",
       " ['./generated/batch/2premodel38321', 11.877325087901616, 0.44518034296287795],\n",
       " ['./generated/batch/4premodel25641', 12.400283476755018, 0.42343266718283473],\n",
       " ['./generated/batch/1model25321', 12.827675741248273, 0.4017150861320422],\n",
       " ['./generated/batch/2model38321', 12.461540453787666, 0.4011581387287715],\n",
       " ['./generated/batch/1premodel38321', 11.975898009399485, 0.393947017004329],\n",
       " ['./generated/batch/1model25161', 12.028986557678923, 0.3895516697112146],\n",
       " ['./generated/batch/4premodel4321', 11.647082097853206, 0.38702387342220435],\n",
       " ['./generated/batch/2premodel5641', 11.515094520760483, 0.3341071429138854],\n",
       " ['./generated/batch/4model49321', 12.670708704496668, 0.32386703309829995],\n",
       " ['./generated/batch/4model4641', 11.95968645593314, 0.26894333530016457],\n",
       " ['./generated/batch/4model49641', 12.086463336696218, 0.260846524870639],\n",
       " ['./generated/batch/2premodel25641', 12.138895545459915, 0.24338747945412553],\n",
       " ['./generated/batch/2model50321', 12.594547753006946, 0.23156163985231978],\n",
       " ['./generated/batch/2premodel25321', 0.6698326436501543, 0.03556447617906893],\n",
       " ['./generated/batch/1premodel48321',\n",
       "  0.8648103896889883,\n",
       "  1.0481387327866724e-78],\n",
       " ['./generated/batch/1premodel50321', 0.0, 0.0],\n",
       " ['./generated/batch/1premodel4321', 0.0, 0.0],\n",
       " ['./generated/batch/1model25641', 0.0, 0.0],\n",
       " ['./generated/batch/2premodel50321', 0.0, 0.0]]"
      ]
     },
     "execution_count": 148,
     "metadata": {},
     "output_type": "execute_result"
    }
   ],
   "source": [
    "files = search('./generated/batch/')\n",
    "data = []\n",
    "for file in files:\n",
    "    hyp = read(file)\n",
    "    b_1 =  (one_bleu(ref, hyp)/len(ref)) * 100\n",
    "    b_2 =  (bleu(ref, hyp)/len(ref)) * 100\n",
    "    data.append([file, b_1, b_2])\n",
    "sorted(data, key = (lambda x:x[2]), reverse = True)"
   ]
  },
  {
   "cell_type": "code",
   "execution_count": 150,
   "metadata": {},
   "outputs": [
    {
     "data": {
      "text/plain": [
       "[['../backup/generated/batch/1premodel5641',\n",
       "  11.82018254610962,\n",
       "  0.5716750108279676],\n",
       " ['../backup/generated/batch/2model5641',\n",
       "  12.408990849027028,\n",
       "  0.41854698011840485]]"
      ]
     },
     "execution_count": 150,
     "metadata": {},
     "output_type": "execute_result"
    }
   ],
   "source": [
    "files = search('../backup/generated/batch/')\n",
    "data = []\n",
    "for file in files:\n",
    "    hyp = read(file)\n",
    "    b_1 =  (one_bleu(ref, hyp)/len(ref)) * 100\n",
    "    b_2 =  (bleu(ref, hyp)/len(ref)) * 100\n",
    "    data.append([file, b_1, b_2])\n",
    "sorted(data, key = (lambda x:x[2]), reverse = True)"
   ]
  },
  {
   "cell_type": "code",
   "execution_count": null,
   "metadata": {},
   "outputs": [],
   "source": []
  }
 ],
 "metadata": {
  "kernelspec": {
   "display_name": "Python [conda env:python] *",
   "language": "python",
   "name": "conda-env-python-py"
  },
  "language_info": {
   "codemirror_mode": {
    "name": "ipython",
    "version": 3
   },
   "file_extension": ".py",
   "mimetype": "text/x-python",
   "name": "python",
   "nbconvert_exporter": "python",
   "pygments_lexer": "ipython3",
   "version": "3.7.3"
  }
 },
 "nbformat": 4,
 "nbformat_minor": 4
}
